{
 "cells": [
  {
   "cell_type": "code",
   "execution_count": 38,
   "metadata": {},
   "outputs": [],
   "source": [
    "import pandas as pd\n",
    "import numpy as np\n",
    "import matplotlib.pyplot as plt\n",
    "from sklearn.preprocessing import StandardScaler\n",
    "import matplotlib.pyplot as plt\n",
    "from matplotlib import style\n",
    "from sklearn.model_selection import train_test_split\n",
    "style.use('fivethirtyeight')\n",
    "from sklearn.neighbors import KNeighborsClassifier\n",
    "from sklearn.discriminant_analysis import LinearDiscriminantAnalysis\n",
    "from sklearn.preprocessing import StandardScaler\n",
    "\n",
    "\n",
    "\n",
    "\n",
    "df= pd.read_excel(\"D:/Dataset/Wisconsin_breast_cancer.xlsx\")\n",
    "\n",
    "df['diagnosis'] = np.where(df.diagnosis == 'M', 1, 0)\n",
    "# y = df.diagnosis                          # M or B \n",
    "list = ['id']\n",
    "df= df.drop(list,axis = 1 )\n",
    "# # X.rename(columns={x:y for x,y in zip(X.columns,range(0,len(X.columns)))})\n",
    "\n",
    "df.columns = np.arange(len(df.columns))\n",
    "# X.columns\n",
    "df.head()\n",
    "y, X = df.iloc[:, 0].values, df.iloc[:, 1:].values\n",
    "\n",
    "X_cent = X - X.mean(axis=0)\n",
    "X_std = X_cent / X.std(axis=0)\n",
    "\n",
    "\n"
   ]
  },
  {
   "cell_type": "code",
   "execution_count": 34,
   "metadata": {},
   "outputs": [],
   "source": [
    "import numpy as np\n",
    "\n",
    "def comp_mean_vectors(X, y):\n",
    "    class_labels = np.unique(y)\n",
    "    n_classes = class_labels.shape[0]\n",
    "    mean_vectors = []\n",
    "    for cl in class_labels:\n",
    "        mean_vectors.append(np.mean(X[y==cl], axis=0))\n",
    "    return mean_vectors\n",
    "\n",
    "def scatter_within(X, y):\n",
    "    class_labels = np.unique(y)\n",
    "    n_classes = class_labels.shape[0]\n",
    "    n_features = X.shape[1]\n",
    "    mean_vectors = comp_mean_vectors(X, y)\n",
    "    S_W = np.zeros((n_features, n_features))\n",
    "    for cl, mv in zip(class_labels, mean_vectors):\n",
    "        class_sc_mat = np.zeros((n_features, n_features))                 \n",
    "        for row in X[y == cl]:\n",
    "            row, mv = row.reshape(n_features, 1), mv.reshape(n_features, 1)\n",
    "            class_sc_mat += (row-mv).dot((row-mv).T)\n",
    "        S_W += class_sc_mat                           \n",
    "    return S_W\n",
    "\n",
    "def scatter_between(X, y):\n",
    "    overall_mean = np.mean(X, axis=0)\n",
    "    n_features = X.shape[1]\n",
    "    mean_vectors = comp_mean_vectors(X, y)    \n",
    "    S_B = np.zeros((n_features, n_features))\n",
    "    for i, mean_vec in enumerate(mean_vectors):  \n",
    "        n = X[y==i+1,:].shape[0]\n",
    "        mean_vec = mean_vec.reshape(n_features, 1)\n",
    "        overall_mean = overall_mean.reshape(n_features, 1)\n",
    "        S_B += n * (mean_vec - overall_mean).dot((mean_vec - overall_mean).T)\n",
    "    return S_B\n",
    "\n",
    "def get_components(eig_vals, eig_vecs, n_comp=2):\n",
    "    n_features = X.shape[1]\n",
    "    eig_pairs = [(np.abs(eig_vals[i]), eig_vecs[:,i]) for i in range(len(eig_vals))]\n",
    "    eig_pairs = sorted(eig_pairs, key=lambda k: k[0], reverse=True)\n",
    "    W = np.hstack([eig_pairs[i][1].reshape(30, 1) for i in range(0, n_comp)])\n",
    "    return W"
   ]
  },
  {
   "cell_type": "code",
   "execution_count": 50,
   "metadata": {},
   "outputs": [
    {
     "data": {
      "text/plain": [
       "(30, 3)"
      ]
     },
     "execution_count": 50,
     "metadata": {},
     "output_type": "execute_result"
    }
   ],
   "source": [
    "S_W, S_B = scatter_within(X, y), scatter_between(X, y)\n",
    "eig_vals, eig_vecs = np.linalg.eig(np.linalg.inv(S_W).dot(S_B))\n",
    "W = get_components(eig_vals, eig_vecs, n_comp=3)\n",
    "print('EigVals: %s\\n\\nEigVecs: %s' % (eig_vals, eig_vecs))\n",
    "print('\\nW: %s' % W)\n",
    "# W.shape"
   ]
  },
  {
   "cell_type": "code",
   "execution_count": 36,
   "metadata": {},
   "outputs": [
    {
     "name": "stderr",
     "output_type": "stream",
     "text": [
      "C:\\Users\\mkahs\\Anaconda3\\lib\\site-packages\\numpy\\core\\numeric.py:544: ComplexWarning: Casting complex values to real discards the imaginary part\n",
      "  return array(a, dtype, copy=False, order=order, subok=True)\n"
     ]
    },
    {
     "data": {
      "image/png": "[encoded data removed]",
      "text/plain": [
       "<Figure size 432x288 with 1 Axes>"
      ]
     },
     "metadata": {},
     "output_type": "display_data"
    }
   ],
   "source": [
    "X_lda = X.dot(W)\n",
    "for label,marker,color in zip(\n",
    "        np.unique(y),('^', 's', 'o'),('blue', 'red', 'green')):\n",
    "    plt.scatter(X_lda[y==label, 0], X_lda[y==label, 1],\n",
    "                color=color, marker=marker)"
   ]
  },
  {
   "cell_type": "code",
   "execution_count": null,
   "metadata": {},
   "outputs": [],
   "source": [
    "/Users/sebastian/miniconda3/lib/python3.5/site-packages/numpy/core/numeric.py:525: ComplexWarning: Casting complex values to real discards the imaginary part\n",
    "  return array(a, dtype, copy=False, order=order, subok=True)"
   ]
  },
  {
   "cell_type": "code",
   "execution_count": 95,
   "metadata": {},
   "outputs": [
    {
     "name": "stdout",
     "output_type": "stream",
     "text": [
      "[ 7.59154562e-01+0.00000000e+00j -4.74304511e-14+6.64024302e-14j\n",
      " -4.74304511e-14-6.64024302e-14j  1.51747770e-14+0.00000000e+00j\n",
      " -1.39701844e-14+4.62811738e-15j -1.39701844e-14-4.62811738e-15j\n",
      "  6.47926677e-15+4.42318756e-15j  6.47926677e-15-4.42318756e-15j\n",
      "  3.61368593e-15+6.60283506e-15j  3.61368593e-15-6.60283506e-15j\n",
      " -7.02159006e-15+0.00000000e+00j  1.78918406e-15+6.61082811e-16j\n",
      "  1.78918406e-15-6.61082811e-16j  1.57047690e-15+0.00000000e+00j\n",
      " -1.32490541e-15+2.49616439e-16j -1.32490541e-15-2.49616439e-16j\n",
      " -5.64341936e-16+8.13382466e-16j -5.64341936e-16-8.13382466e-16j\n",
      "  5.63965711e-16+2.29603050e-16j  5.63965711e-16-2.29603050e-16j\n",
      " -2.74373218e-16+3.86628297e-16j -2.74373218e-16-3.86628297e-16j\n",
      " -4.36902736e-16+0.00000000e+00j -5.45344058e-17+1.38462493e-16j\n",
      " -5.45344058e-17-1.38462493e-16j  7.89000789e-17+8.21780765e-18j\n",
      "  7.89000789e-17-8.21780765e-18j  1.53240392e-17+0.00000000e+00j\n",
      " -7.29482659e-19+0.00000000e+00j -1.02124259e-17+0.00000000e+00j]\n",
      "[ 0  3  6  7  8  9 11 12 13 18 19 25 26 27 28 29 23 24 20 21 22 16 17 14\n",
      " 15 10  4  5  1  2]\n",
      "[[ 5.07633078e-01  5.72417270e-01  5.72417270e-01]\n",
      " [-7.39850427e-02 -6.43102468e-02 -6.43102468e-02]\n",
      " [-7.37188279e-02 -3.46870833e-02 -3.46870833e-02]\n",
      " [-5.49737072e-02 -2.11689796e-02 -2.11689796e-02]\n",
      " [-1.86248189e-03 -8.35619916e-04 -8.35619916e-04]\n",
      " [-1.55337433e-04 -4.39744792e-03 -4.39744792e-03]\n",
      " [ 2.46613441e-03 -2.64276437e-04 -2.64276437e-04]\n",
      " [ 3.01182069e-02  3.39857197e-02  3.39857197e-02]\n",
      " [ 2.77802143e-02  2.28856891e-03  2.28856891e-03]\n",
      " [-9.28089353e-03 -2.32241048e-03 -2.32241048e-03]\n",
      " [ 1.25082656e-02  6.45793243e-03  6.45793243e-03]\n",
      " [-6.98932051e-03 -7.76374374e-03 -7.76374374e-03]\n",
      " [-5.26033716e-02 -1.24965059e-02 -1.24965059e-02]\n",
      " [-2.01879810e-02 -1.40631195e-02 -1.40631195e-02]\n",
      " [-2.27854546e-02 -8.24405466e-03 -8.24405466e-03]\n",
      " [-5.14131447e-02 -1.77136900e-02 -1.77136900e-02]\n",
      " [ 3.80835637e-01  2.56738818e-01  2.56738818e-01]\n",
      " [-8.19866801e-03  2.55631796e-03  2.55631796e-03]\n",
      " [-6.24002900e-01 -3.33150623e-01 -3.33150623e-01]\n",
      " [-2.91066169e-02 -1.11732794e-02 -1.11732794e-02]\n",
      " [ 5.41235117e-02  8.54985968e-02  8.54985968e-02]\n",
      " [ 7.11916114e-02  1.72036760e-02  1.72036760e-02]\n",
      " [-4.31322274e-02 -1.21800357e-02 -1.21800357e-02]\n",
      " [-3.14875665e-02 -1.28175244e-02 -1.28175244e-02]\n",
      " [-7.68820206e-04  7.70159675e-04  7.70159675e-04]\n",
      " [-7.97849387e-02 -4.57405553e-02 -4.57405553e-02]\n",
      " [-7.87855132e-04 -2.71537943e-03 -2.71537943e-03]\n",
      " [ 1.47491349e-01  8.04425132e-02  8.04425132e-02]\n",
      " [-1.29317580e-02 -5.07837868e-03 -5.07837868e-03]\n",
      " [-3.81568118e-01 -4.45799742e-01 -4.45799742e-01]]\n",
      "[[-128.24279891  -43.80240501  -43.80240501]\n",
      " [-140.67879444  -47.63363547  -47.63363547]\n",
      " [-126.75527424  -42.7968801   -42.7968801 ]\n",
      " ...\n",
      " [ -87.39392551  -28.72777665  -28.72777665]\n",
      " [-134.79382494  -45.80009976  -45.80009976]\n",
      " [ -20.26958547   -5.81697235   -5.81697235]]\n"
     ]
    },
    {
     "name": "stderr",
     "output_type": "stream",
     "text": [
      "C:\\Users\\mkahs\\Anaconda3\\lib\\site-packages\\ipykernel\\__main__.py:14: ComplexWarning: Casting complex values to real discards the imaginary part\n"
     ]
    },
    {
     "data": {
      "text/plain": [
       "(569, 3)"
      ]
     },
     "execution_count": 95,
     "metadata": {},
     "output_type": "execute_result"
    }
   ],
   "source": [
    "S_W, S_B = scatter_within(X_std, y), scatter_between(X_std, y)\n",
    "eig_vals, eig_vecs = np.linalg.eig(np.linalg.inv(S_W).dot(S_B))\n",
    "#W_std = get_components(eig_vals, eig_vecs, n_comp=3)\n",
    "# W_std.shape\n",
    "# print('EigVals: %s\\n\\nEigVecs: %s' % (eig_vals, eig_vecs))\n",
    "# print('\\nW: %s' % W_std)\n",
    "print(eig_vals)\n",
    "#sorted_eig=eig_vals.sort()\n",
    "sorted1=eig_vals.argsort()[::-1]  \n",
    "print(sorted1)\n",
    "A=np.zeros((30,3))\n",
    "for i in range(0,30):\n",
    "    for j in range(0,3):\n",
    "        A[i][j]=eig_vecs[sorted1[i]][j]\n",
    "print(A)\n",
    "B=np.matmul(X, A)\n",
    "print(B)\n",
    "B.shape"
   ]
  },
  {
   "cell_type": "code",
   "execution_count": 68,
   "metadata": {},
   "outputs": [
    {
     "name": "stderr",
     "output_type": "stream",
     "text": [
      "C:\\Users\\mkahs\\Anaconda3\\lib\\site-packages\\numpy\\core\\numeric.py:544: ComplexWarning: Casting complex values to real discards the imaginary part\n",
      "  return array(a, dtype, copy=False, order=order, subok=True)\n"
     ]
    },
    {
     "data": {
      "image/png": "[encoded data removed]",
      "text/plain": [
       "<Figure size 432x288 with 1 Axes>"
      ]
     },
     "metadata": {},
     "output_type": "display_data"
    }
   ],
   "source": [
    "X_std_lda = X_std.dot(W_std)\n",
    "X_std_lda[:, 1] = X_std_lda[:, 1]\n",
    "for label,marker,color in zip(\n",
    "        np.unique(y),('^', 's', 'o'),('blue', 'red', 'green')):\n",
    "    plt.scatter(X_std_lda[y==label, 0], X_std_lda[y==label, 1],\n",
    "                color=color, marker=marker)"
   ]
  },
  {
   "cell_type": "code",
   "execution_count": null,
   "metadata": {},
   "outputs": [],
   "source": []
  }
 ],
 "metadata": {
  "kernelspec": {
   "display_name": "Python [conda env:Anaconda3]",
   "language": "python",
   "name": "conda-env-Anaconda3-py"
  },
  "language_info": {
   "codemirror_mode": {
    "name": "ipython",
    "version": 3
   },
   "file_extension": ".py",
   "mimetype": "text/x-python",
   "name": "python",
   "nbconvert_exporter": "python",
   "pygments_lexer": "ipython3",
   "version": "3.6.5"
  }
 },
 "nbformat": 4,
 "nbformat_minor": 2
}
