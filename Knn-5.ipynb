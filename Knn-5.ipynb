{
 "cells": [
  {
   "cell_type": "code",
   "execution_count": 1,
   "metadata": {},
   "outputs": [
    {
     "data": {
      "text/html": [
       "<div>\n",
       "<style scoped>\n",
       "    .dataframe tbody tr th:only-of-type {\n",
       "        vertical-align: middle;\n",
       "    }\n",
       "\n",
       "    .dataframe tbody tr th {\n",
       "        vertical-align: top;\n",
       "    }\n",
       "\n",
       "    .dataframe thead th {\n",
       "        text-align: right;\n",
       "    }\n",
       "</style>\n",
       "<table border=\"1\" class=\"dataframe\">\n",
       "  <thead>\n",
       "    <tr style=\"text-align: right;\">\n",
       "      <th></th>\n",
       "      <th>0</th>\n",
       "      <th>1</th>\n",
       "      <th>2</th>\n",
       "    </tr>\n",
       "  </thead>\n",
       "  <tbody>\n",
       "    <tr>\n",
       "      <th>0</th>\n",
       "      <td>51</td>\n",
       "      <td>35</td>\n",
       "      <td>0</td>\n",
       "    </tr>\n",
       "    <tr>\n",
       "      <th>1</th>\n",
       "      <td>24</td>\n",
       "      <td>81</td>\n",
       "      <td>0</td>\n",
       "    </tr>\n",
       "    <tr>\n",
       "      <th>2</th>\n",
       "      <td>72</td>\n",
       "      <td>24</td>\n",
       "      <td>0</td>\n",
       "    </tr>\n",
       "    <tr>\n",
       "      <th>3</th>\n",
       "      <td>27</td>\n",
       "      <td>32</td>\n",
       "      <td>0</td>\n",
       "    </tr>\n",
       "    <tr>\n",
       "      <th>4</th>\n",
       "      <td>41</td>\n",
       "      <td>54</td>\n",
       "      <td>0</td>\n",
       "    </tr>\n",
       "  </tbody>\n",
       "</table>\n",
       "</div>"
      ],
      "text/plain": [
       "    0   1  2\n",
       "0  51  35  0\n",
       "1  24  81  0\n",
       "2  72  24  0\n",
       "3  27  32  0\n",
       "4  41  54  0"
      ]
     },
     "execution_count": 1,
     "metadata": {},
     "output_type": "execute_result"
    }
   ],
   "source": [
    "import numpy as np\n",
    "import pandas as pd\n",
    "import random\n",
    "import math\n",
    "import operator\n",
    "\n",
    "df = pd.read_excel(\"D:/Dataset/Example_DT_conti.xlsx\",header=None)\n",
    "df.head()\n",
    "# df.columns"
   ]
  },
  {
   "cell_type": "code",
   "execution_count": 3,
   "metadata": {},
   "outputs": [],
   "source": [
    "def euclideanDistance(instance1, instance2, length):\n",
    "    distance = 0\n",
    "    for x in range(length):\n",
    "        distance += pow((instance1[x] - instance2[x]), 2)\n",
    "    return math.sqrt(distance)"
   ]
  },
  {
   "cell_type": "code",
   "execution_count": 4,
   "metadata": {},
   "outputs": [],
   "source": [
    "\n",
    "import operator \n",
    "def getNeighbors(trainingSet, testInstance, k):\n",
    "    distances = []\n",
    "    length = len(testInstance)-1\n",
    "    for x in range(len(trainingSet)):\n",
    "        dist = euclideanDistance(testInstance, trainingSet[x], length)\n",
    "        distances.append((trainingSet[x], dist))\n",
    "    distances.sort(key=operator.itemgetter(1))\n",
    "    neighbors = []\n",
    "    for x in range(k):\n",
    "        neighbors.append(distances[x][0])\n",
    "    return neighbors"
   ]
  },
  {
   "cell_type": "code",
   "execution_count": 5,
   "metadata": {},
   "outputs": [],
   "source": [
    "def getResponse(neighbors):\n",
    "    classVotes = {}\n",
    "    for x in range(len(neighbors)):\n",
    "        response = neighbors[x][-1]\n",
    "        if response in classVotes:\n",
    "            classVotes[response] += 1\n",
    "        else:\n",
    "            classVotes[response] = 1\n",
    "    sortedVotes = sorted(classVotes.iteritems(), key=operator.itemgetter(1), reverse=True)\n",
    "    return sortedVotes[0][0]"
   ]
  },
  {
   "cell_type": "code",
   "execution_count": 7,
   "metadata": {
    "scrolled": true
   },
   "outputs": [
    {
     "data": {
      "image/png": "[encoded data removed]",
      "text/plain": [
       "<Figure size 432x288 with 1 Axes>"
      ]
     },
     "metadata": {},
     "output_type": "display_data"
    }
   ],
   "source": [
    "data = pd.DataFrame([])\n",
    "for i in range (1,101):\n",
    "    for j in range(1,101):\n",
    "        \n",
    "        index=[]\n",
    "        distance=[]\n",
    "        for d in range(len(df)):\n",
    "            a=np.array((df.at[d,0],df.at[d,1]))\n",
    "#             print(a)\n",
    "            b=np.array((i,j))\n",
    "#             print(a,b)\n",
    "        \n",
    "            e = np.linalg.norm(a - b) \n",
    "#             print(e)\n",
    "#             ec= euclideanDistance(a,b,2)\n",
    "#             print(ec)\n",
    "            index.append(d)\n",
    "#             print(err)\n",
    "            distance.append(e)\n",
    "#         neighbors = getNeighbors(trainingSet, testSet[x], k)\n",
    "#         result = getResponse(neighbors)\n",
    "#         print(result)\n",
    "        my_dict = dict(zip(index, distance))\n",
    "        sorted(my_dict.items(), key=operator.itemgetter(1,0))\n",
    "        label_list=[]\n",
    "        for k,v in sorted(my_dict.items(), key=operator.itemgetter(1))[:5]:\n",
    "#             print(k)\n",
    "            label_list.append(df.at[k,2])\n",
    "#         print(label_list)\n",
    "        \n",
    "        a=label_list.count(0)\n",
    "        b=label_list.count(1)\n",
    "        c=label_list.count(2)\n",
    "        mx=max(a,b,c)\n",
    "        if mx==a:\n",
    "            label=0\n",
    "        if mx==b:\n",
    "            label=1\n",
    "        if mx==c:\n",
    "            label=2\n",
    "       \n",
    "#         print(label)\n",
    "        data = data.append(pd.DataFrame({'A': i, 'B': j,'Class':label}, index=[0]), ignore_index=True)\n",
    "data.head()        \n",
    "\n",
    "\n",
    "import matplotlib.pyplot as plt\n",
    "x=data['A'].values\n",
    "y=data['B'].values\n",
    "classes=data['Class'].values\n",
    "unique = np.unique(classes)\n",
    "colors = [plt.cm.jet(i/float(len(unique)-1)) for i in range(len(unique))]\n",
    "for i, u in enumerate(unique):\n",
    "    xi = [x[j] for j  in range(len(x)) if classes[j] == u]\n",
    "    yi = [y[j] for j  in range(len(x)) if classes[j] == u]\n",
    "    plt.scatter(xi, yi, c=colors[i], label=str(u))\n",
    "plt.legend()\n",
    "plt.show()"
   ]
  }
 ],
 "metadata": {
  "kernelspec": {
   "display_name": "Python 3",
   "language": "python",
   "name": "python3"
  },
  "language_info": {
   "codemirror_mode": {
    "name": "ipython",
    "version": 3
   },
   "file_extension": ".py",
   "mimetype": "text/x-python",
   "name": "python",
   "nbconvert_exporter": "python",
   "pygments_lexer": "ipython3",
   "version": "3.7.4"
  }
 },
 "nbformat": 4,
 "nbformat_minor": 2
}
