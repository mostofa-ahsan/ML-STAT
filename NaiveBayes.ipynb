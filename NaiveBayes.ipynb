{
 "cells": [
  {
   "cell_type": "code",
   "execution_count": 4,
   "metadata": {},
   "outputs": [
    {
     "name": "stdout",
     "output_type": "stream",
     "text": [
      "First Answer: \n",
      "His political Affiliation is Democrat\n",
      "##########################\n",
      "Second Answer: \n",
      "His political Affiliation is Democrat.\n",
      "##########################\n",
      "Probability for First Question:\n",
      "Republican1:  0.003702763008\n",
      "Democrat1: 0.0196989408\n",
      "##########################\n",
      "Probability for Second Question:\n",
      "Republican2:  0.001151998848\n",
      "Democrat2: 0.039429936000000006\n"
     ]
    }
   ],
   "source": [
    "import numpy as np\n",
    "p_demo = .50\n",
    "p_repu = .42\n",
    "p_male_demo = .44 \n",
    "p_female_demo = .56\n",
    "p_male_repu = .48\n",
    "p_female_repu = .37\n",
    "p_hispanic_demo = .63\n",
    "p_asian_demo= .65\n",
    "p_hispanic_repu = .28\n",
    "p_asian_repu = .27\n",
    "p_phd_demo = .63\n",
    "p_phd_repu = .31\n",
    "p_bs_demo=.54\n",
    "p_bs_repu=.39\n",
    "p_55_demo = .48\n",
    "p_55_repu = .46\n",
    "p_25_demo = .59\n",
    "p_25_repu = .32\n",
    "p_cath_demo = .47\n",
    "p_cath_repu = .46\n",
    "p_non_rel_demo = .68\n",
    "p_non_rel_repu = .22\n",
    "\n",
    "\n",
    "Pr_R= p_repu*p_male_repu*p_phd_repu*p_hispanic_repu*p_55_repu*p_cath_repu\n",
    "Pr_D= p_demo*p_male_demo*p_phd_demo*p_hispanic_demo*p_55_demo*p_cath_demo\n",
    "\n",
    "print('First Answer: ')\n",
    "if (Pr_R>Pr_D):\n",
    "    print('His political Affiliation is Republican: ')\n",
    "else:\n",
    "    print('His political Affiliation is Democrat')\n",
    "print('##########################')\n",
    "print('Second Answer: ')\n",
    "Pr_R1= p_repu*p_female_repu*p_bs_repu*p_asian_repu*p_25_repu*p_non_rel_repu\n",
    "Pr_D1= p_demo*p_female_demo*p_bs_demo*p_asian_demo*p_25_demo*p_non_rel_demo  \n",
    "\n",
    "\n",
    "if (Pr_R>Pr_D):\n",
    "    print('His political Affiliation is Republican. ')\n",
    "else:\n",
    "    print('His political Affiliation is Democrat.')\n",
    "print('##########################')\n",
    "print('Probability for First Question:')\n",
    "print('Republican1: ', Pr_R)\n",
    "print('Democrat1:', Pr_D)\n",
    "print('##########################')\n",
    "print('Probability for Second Question:')\n",
    "\n",
    "print('Republican2: ', Pr_R1)\n",
    "print('Democrat2:', Pr_D1)"
   ]
  }
 ],
 "metadata": {
  "kernelspec": {
   "display_name": "Python 3",
   "language": "python",
   "name": "python3"
  },
  "language_info": {
   "codemirror_mode": {
    "name": "ipython",
    "version": 3
   },
   "file_extension": ".py",
   "mimetype": "text/x-python",
   "name": "python",
   "nbconvert_exporter": "python",
   "pygments_lexer": "ipython3",
   "version": "3.7.4"
  }
 },
 "nbformat": 4,
 "nbformat_minor": 2
}
