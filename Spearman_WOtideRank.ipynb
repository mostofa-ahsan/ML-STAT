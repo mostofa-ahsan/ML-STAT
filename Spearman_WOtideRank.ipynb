{
 "cells": [
  {
   "cell_type": "code",
   "execution_count": 23,
   "metadata": {},
   "outputs": [
    {
     "data": {
      "text/html": [
       "<div>\n",
       "<style scoped>\n",
       "    .dataframe tbody tr th:only-of-type {\n",
       "        vertical-align: middle;\n",
       "    }\n",
       "\n",
       "    .dataframe tbody tr th {\n",
       "        vertical-align: top;\n",
       "    }\n",
       "\n",
       "    .dataframe thead th {\n",
       "        text-align: right;\n",
       "    }\n",
       "</style>\n",
       "<table border=\"1\" class=\"dataframe\">\n",
       "  <thead>\n",
       "    <tr style=\"text-align: right;\">\n",
       "      <th></th>\n",
       "      <th>Exam1</th>\n",
       "      <th>Exam2</th>\n",
       "      <th>index_col</th>\n",
       "    </tr>\n",
       "  </thead>\n",
       "  <tbody>\n",
       "    <tr>\n",
       "      <th>0</th>\n",
       "      <td>87</td>\n",
       "      <td>72</td>\n",
       "      <td>0</td>\n",
       "    </tr>\n",
       "    <tr>\n",
       "      <th>1</th>\n",
       "      <td>89</td>\n",
       "      <td>93</td>\n",
       "      <td>1</td>\n",
       "    </tr>\n",
       "    <tr>\n",
       "      <th>2</th>\n",
       "      <td>74</td>\n",
       "      <td>72</td>\n",
       "      <td>2</td>\n",
       "    </tr>\n",
       "    <tr>\n",
       "      <th>3</th>\n",
       "      <td>65</td>\n",
       "      <td>79</td>\n",
       "      <td>3</td>\n",
       "    </tr>\n",
       "    <tr>\n",
       "      <th>4</th>\n",
       "      <td>92</td>\n",
       "      <td>90</td>\n",
       "      <td>4</td>\n",
       "    </tr>\n",
       "  </tbody>\n",
       "</table>\n",
       "</div>"
      ],
      "text/plain": [
       "   Exam1  Exam2  index_col\n",
       "0     87     72          0\n",
       "1     89     93          1\n",
       "2     74     72          2\n",
       "3     65     79          3\n",
       "4     92     90          4"
      ]
     },
     "execution_count": 23,
     "metadata": {},
     "output_type": "execute_result"
    }
   ],
   "source": [
    "import pandas as pd\n",
    "import numpy as np\n",
    "\n",
    "\n",
    "\n",
    "df= pd.read_excel(\"C:/Users/mkahs/Desktop/Exam_ranks.xlsx\", header=None)\n",
    "df.columns = ['Exam1', 'Exam2']\n",
    "df['index_col'] = df.index\n",
    "Exam1_rank=[]\n",
    "Exam2_rank=[]\n",
    "df.head()\n"
   ]
  },
  {
   "cell_type": "code",
   "execution_count": 77,
   "metadata": {},
   "outputs": [
    {
     "name": "stdout",
     "output_type": "stream",
     "text": [
      "Spearman correlation is:  0.9292563206756566\n"
     ]
    }
   ],
   "source": [
    "for col in ['Exam1','Exam2']:\n",
    "    list=[]\n",
    "#     df['{}_rank'.format(col)]=\"\"\n",
    "#     print(df['{}_rank'.format(col)])\n",
    "    u= np.sort(df[col].unique())\n",
    "    reverse_array = u[::-1]\n",
    "#     print(reverse_array)\n",
    "    for j in df[col]:\n",
    "        for p,i in enumerate(reverse_array):\n",
    "            if(j==i):\n",
    "                \n",
    "                t=p+1\n",
    "#                 print(t)\n",
    "                list.append(t)\n",
    "    if col=='Exam1':\n",
    "        df['Exam1_rank']=list\n",
    "    if col=='Exam2':\n",
    "        df['Exam2_rank']=list\n",
    "# df.head(100)\n",
    "count=0\n",
    "for i in range(0,len(df)):\n",
    "    d= (df.at[i,'Exam1_rank']-df.at[i,'Exam2_rank'])\n",
    "    count=count+(d*d)\n",
    "\n",
    "# print(count)\n",
    "\n",
    "D=6*count\n",
    "# print(D)\n",
    "n=len(df)\n",
    "N=(n**3)-n\n",
    "# print(N)\n",
    "c=D/N\n",
    "# print(c)\n",
    "    \n",
    "\n",
    "# print(n)\n",
    "sp=(1-c)\n",
    "# sp=round(spmn)\n",
    "\n",
    "print(\"Spearman correlation is: \",sp)\n",
    "    \n",
    "#     print(d)\n",
    "\n",
    "    \n",
    "#     print(reverse_array)\n",
    "#     for i in u:\n",
    "        "
   ]
  },
  {
   "cell_type": "code",
   "execution_count": null,
   "metadata": {},
   "outputs": [],
   "source": []
  }
 ],
 "metadata": {
  "kernelspec": {
   "display_name": "Python 3",
   "language": "python",
   "name": "python3"
  },
  "language_info": {
   "codemirror_mode": {
    "name": "ipython",
    "version": 3
   },
   "file_extension": ".py",
   "mimetype": "text/x-python",
   "name": "python",
   "nbconvert_exporter": "python",
   "pygments_lexer": "ipython3",
   "version": "3.7.4"
  }
 },
 "nbformat": 4,
 "nbformat_minor": 2
}
