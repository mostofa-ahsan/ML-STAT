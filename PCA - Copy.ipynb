{
 "cells": [
  {
   "cell_type": "code",
   "execution_count": 24,
   "metadata": {},
   "outputs": [
    {
     "name": "stdout",
     "output_type": "stream",
     "text": [
      "PCA Component:\n",
      "[[-0.15690447  0.56066866  0.20738436]\n",
      " [-0.03373494 -0.24413933 -0.10585624]\n",
      " [ 0.22355921  0.13041311 -0.63145048]\n",
      " [-0.20087123  0.10411772 -0.17079229]\n",
      " [-0.02428722  0.01606694 -0.52491466]\n",
      " [ 0.13119747 -0.70298193  0.12370469]\n",
      " [-0.22363601 -0.22960669 -0.03159628]\n",
      " [ 0.14175876  0.2700227  -0.01337672]\n",
      " [-0.1329443   0.28938115  0.44635554]\n",
      " [-0.32953335 -0.06510579  0.13195866]\n",
      " [-0.12037133 -0.69141866  0.24949503]\n",
      " [ 0.10632912  0.05395597 -0.0096488 ]]\n",
      "Original Dataset Dimension: (4898, 12)\n",
      "After PCA dataset Dimension: (4898, 3)\n",
      "After PCA datase sample:\n",
      "[[-38.12683723 -69.25726295   1.35483062]\n",
      " [-29.89321398 -41.53242663   2.15888644]\n",
      " [-21.35004798 -43.59302616   4.80105919]\n",
      " ...\n",
      " [-23.01711714 -47.91195974   4.84948639]\n",
      " [-24.22874503 -43.41319617   4.3733052 ]\n",
      " [-21.23572487 -41.16643567   4.83032025]]\n"
     ]
    }
   ],
   "source": [
    "import numpy as np\n",
    "import pandas as pd\n",
    "from math import sqrt\n",
    "from itertools import combinations\n",
    "\n",
    "df= pd.read_csv(\"C:/Users/DOTSC75/Desktop/winequality-white.csv\",sep=';')\n",
    "Omega= pd.read_csv(\"C:/Users/DOTSC75/Desktop/winequality-white.csv\",sep=';')\n",
    "d=3\n",
    "w_mean=dict()\n",
    "\n",
    "for i in df.columns:\n",
    "    m=np.mean(df[i])\n",
    "    w_mean[i]=m \n",
    "\n",
    "for k, v in w_mean.items():\n",
    "    df[k] = df[k].apply(lambda x: x - v)\n",
    "\n",
    "df.head()\n",
    "w_std=dict()\n",
    "for i in df.columns:\n",
    "    v=np.std(df[i])\n",
    "    w_std[i]=v\n",
    "    \n",
    "for k, v in w_std.items():\n",
    "\n",
    "    df[k] = df[k].apply(lambda x: x*(1/v))   \n",
    "\n",
    "\n",
    "\n",
    "df= df.cov()\n",
    "eigenValues, eigenVectors = np.linalg.eig(df)\n",
    "idx = eigenValues.argsort()[::-1]   \n",
    "eigenValues = eigenValues[idx]\n",
    "eigenVectors = eigenVectors[:,idx]\n",
    "\n",
    "pca=[]\n",
    "for i in range(d):\n",
    "    pca.append(eigenVectors[i])\n",
    "pca=np.array(pca).reshape(len(eigenValues),d)\n",
    "print('PCA Component:')\n",
    "print(pca)\n",
    "\n",
    "O=Omega.values\n",
    "final=np.matmul(O, pca)\n",
    "print('Original Dataset Dimension:',Omega.shape)\n",
    "print('After PCA dataset Dimension:',final.shape)\n",
    "print('After PCA datase sample:')\n",
    "print(final)\n",
    "\n"
   ]
  }
 ],
 "metadata": {
  "kernelspec": {
   "display_name": "Python 3",
   "language": "python",
   "name": "python3"
  },
  "language_info": {
   "codemirror_mode": {
    "name": "ipython",
    "version": 3
   },
   "file_extension": ".py",
   "mimetype": "text/x-python",
   "name": "python",
   "nbconvert_exporter": "python",
   "pygments_lexer": "ipython3",
   "version": "3.6.5"
  }
 },
 "nbformat": 4,
 "nbformat_minor": 2
}
