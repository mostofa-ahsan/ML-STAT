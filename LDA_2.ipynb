{
 "cells": [
  {
   "cell_type": "code",
   "execution_count": 65,
   "metadata": {},
   "outputs": [
    {
     "name": "stdout",
     "output_type": "stream",
     "text": [
      "0\n",
      "0\n",
      "0\n",
      "0\n",
      "0\n",
      "1\n",
      "1\n",
      "1\n",
      "1\n",
      "2\n",
      "2\n",
      "2\n",
      "2\n",
      "2\n",
      "2\n"
     ]
    }
   ],
   "source": [
    "import numpy as np\n",
    "import sys\n",
    "import math\n",
    "import copy\n",
    "from time import time\n",
    "import pandas as pd\n",
    "\n",
    "df= pd.read_excel(\"D:/Dataset/Example.xlsx\", header=None)\n",
    "df.head()\n",
    "\n",
    "u=df[2].unique().tolist()\n",
    "m=len(df)\n",
    "n_m=0\n",
    "pr_mat=[]\n",
    "mean_mat=[]\n",
    "for i in u:\n",
    "    c= df[df[2]==i]\n",
    "    n=(len(c))\n",
    "    pr=n/m\n",
    "    pr_mat.append(pr)\n",
    "    k= c[0].mean()\n",
    "    mean_mat.append(k)\n",
    "    l=c[1].mean()\n",
    "    mean_mat.append(l)\n",
    "    c_m=np.cov(c[0],c[1])\n",
    "    n_m = n_m + (c_m*n)\n",
    "\n",
    "mean_mat=np.reshape(mean_mat,(3,2))\n",
    "sigma=np.linalg.inv(n_m/m)\n",
    "  \n",
    "df1 = df.drop(2, axis=1)\n",
    "   \n",
    "for row in df1.itertuples():\n",
    "    x=[]\n",
    "    x.append(row[1])\n",
    "    x.append(row[2])\n",
    "    x=np.reshape(x,(2,1))\n",
    "    li=[]\n",
    "    for b in mean_mat:\n",
    "        z=[]\n",
    "        z.append(b[0])\n",
    "        z.append(b[1])\n",
    "        z=np.reshape(z,(2,1))\n",
    "        \n",
    "        T=np.transpose(z)\n",
    "        L= -(.5*T.dot(sigma).dot(z))+ T.dot(sigma).dot(x)+ math.log(.33333333333333)\n",
    "\n",
    "        li.append(L)\n",
    "    a=li.index(max(li))\n",
    "    print(a)\n",
    "\n",
    "    \n",
    "\n"
   ]
  }
 ],
 "metadata": {
  "kernelspec": {
   "display_name": "Python [conda env:Anaconda3]",
   "language": "python",
   "name": "conda-env-Anaconda3-py"
  },
  "language_info": {
   "codemirror_mode": {
    "name": "ipython",
    "version": 3
   },
   "file_extension": ".py",
   "mimetype": "text/x-python",
   "name": "python",
   "nbconvert_exporter": "python",
   "pygments_lexer": "ipython3",
   "version": "3.6.5"
  }
 },
 "nbformat": 4,
 "nbformat_minor": 2
}
